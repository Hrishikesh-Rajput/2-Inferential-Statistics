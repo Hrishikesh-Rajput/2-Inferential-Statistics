{
 "cells": [
  {
   "cell_type": "markdown",
   "id": "e8704296",
   "metadata": {},
   "source": [
    "# Anova Test "
   ]
  },
  {
   "cell_type": "code",
   "execution_count": 3,
   "id": "1a11b8d3",
   "metadata": {},
   "outputs": [],
   "source": [
    "import numpy as np # linear algebra\n",
    "import pandas as pd # data processing, CSV file I/O (e.g. pd.read_csv)"
   ]
  },
  {
   "cell_type": "code",
   "execution_count": 5,
   "id": "1bbbf3f1",
   "metadata": {},
   "outputs": [],
   "source": [
    "import seaborn as sns \n",
    "import matplotlib.pyplot as plt\n",
    "%matplotlib inline "
   ]
  },
  {
   "cell_type": "code",
   "execution_count": 6,
   "id": "05a6d032",
   "metadata": {},
   "outputs": [],
   "source": [
    "from sklearn.datasets import load_iris"
   ]
  },
  {
   "cell_type": "code",
   "execution_count": 7,
   "id": "0c84b827",
   "metadata": {},
   "outputs": [],
   "source": [
    "from sklearn.feature_selection import f_classif\n",
    "from sklearn.feature_selection import SelectKBest\n",
    "from scipy.stats import shapiro\n",
    "from scipy import stats"
   ]
  },
  {
   "cell_type": "code",
   "execution_count": 8,
   "id": "60fe0446",
   "metadata": {},
   "outputs": [],
   "source": [
    "from statsmodels.stats.multicomp import pairwise_tukeyhsd\n",
    "from statsmodels.sandbox.stats.multicomp import TukeyHSDResults\n",
    "from statsmodels.graphics.factorplots import interaction_plot\n",
    "from pandas.plotting import scatter_matrix"
   ]
  },
  {
   "cell_type": "markdown",
   "id": "970291da",
   "metadata": {},
   "source": [
    "# "
   ]
  },
  {
   "cell_type": "markdown",
   "id": "9bd6ad5a",
   "metadata": {},
   "source": [
    "Load dataset\n",
    "\n",
    "The load_iris() function from scikit-learn is specifically designed to load a well-known and standardized dataset—the Iris dataset. \n",
    "\n",
    "Standard Benchmark Dataset:\n",
    "\n",
    "load_iris() is specifically designed to load the Iris dataset, which is a well-known benchmark dataset. It's often used in tutorials, courses, and introductory examples."
   ]
  },
  {
   "cell_type": "code",
   "execution_count": 13,
   "id": "4e24eaca",
   "metadata": {},
   "outputs": [],
   "source": [
    "iris=load_iris()"
   ]
  },
  {
   "cell_type": "code",
   "execution_count": 14,
   "id": "fdbf8e11",
   "metadata": {},
   "outputs": [],
   "source": [
    "# iris.data: Contains the feature data (attributes) for each instance in the dataset.\n",
    "# iris.target: Contains the target variable (class labels) for each instance.\n",
    "# iris.feature_names: Contains the names of the features.\n",
    "# iris.target_names: Contains the names of the target classes."
   ]
  },
  {
   "cell_type": "code",
   "execution_count": 16,
   "id": "5aec6b9e",
   "metadata": {},
   "outputs": [
    {
     "data": {
      "text/plain": [
       "array([0, 0, 0, 0, 0, 0, 0, 0, 0, 0, 0, 0, 0, 0, 0, 0, 0, 0, 0, 0, 0, 0,\n",
       "       0, 0, 0, 0, 0, 0, 0, 0, 0, 0, 0, 0, 0, 0, 0, 0, 0, 0, 0, 0, 0, 0,\n",
       "       0, 0, 0, 0, 0, 0, 1, 1, 1, 1, 1, 1, 1, 1, 1, 1, 1, 1, 1, 1, 1, 1,\n",
       "       1, 1, 1, 1, 1, 1, 1, 1, 1, 1, 1, 1, 1, 1, 1, 1, 1, 1, 1, 1, 1, 1,\n",
       "       1, 1, 1, 1, 1, 1, 1, 1, 1, 1, 1, 1, 2, 2, 2, 2, 2, 2, 2, 2, 2, 2,\n",
       "       2, 2, 2, 2, 2, 2, 2, 2, 2, 2, 2, 2, 2, 2, 2, 2, 2, 2, 2, 2, 2, 2,\n",
       "       2, 2, 2, 2, 2, 2, 2, 2, 2, 2, 2, 2, 2, 2, 2, 2, 2, 2])"
      ]
     },
     "execution_count": 16,
     "metadata": {},
     "output_type": "execute_result"
    }
   ],
   "source": [
    "iris.target"
   ]
  },
  {
   "cell_type": "code",
   "execution_count": 17,
   "id": "9b04f9bd",
   "metadata": {},
   "outputs": [
    {
     "data": {
      "text/plain": [
       "array([[5.1, 3.5, 1.4, 0.2],\n",
       "       [4.9, 3. , 1.4, 0.2],\n",
       "       [4.7, 3.2, 1.3, 0.2],\n",
       "       [4.6, 3.1, 1.5, 0.2],\n",
       "       [5. , 3.6, 1.4, 0.2],\n",
       "       [5.4, 3.9, 1.7, 0.4],\n",
       "       [4.6, 3.4, 1.4, 0.3],\n",
       "       [5. , 3.4, 1.5, 0.2],\n",
       "       [4.4, 2.9, 1.4, 0.2],\n",
       "       [4.9, 3.1, 1.5, 0.1],\n",
       "       [5.4, 3.7, 1.5, 0.2],\n",
       "       [4.8, 3.4, 1.6, 0.2],\n",
       "       [4.8, 3. , 1.4, 0.1],\n",
       "       [4.3, 3. , 1.1, 0.1],\n",
       "       [5.8, 4. , 1.2, 0.2],\n",
       "       [5.7, 4.4, 1.5, 0.4],\n",
       "       [5.4, 3.9, 1.3, 0.4],\n",
       "       [5.1, 3.5, 1.4, 0.3],\n",
       "       [5.7, 3.8, 1.7, 0.3],\n",
       "       [5.1, 3.8, 1.5, 0.3],\n",
       "       [5.4, 3.4, 1.7, 0.2],\n",
       "       [5.1, 3.7, 1.5, 0.4],\n",
       "       [4.6, 3.6, 1. , 0.2],\n",
       "       [5.1, 3.3, 1.7, 0.5],\n",
       "       [4.8, 3.4, 1.9, 0.2],\n",
       "       [5. , 3. , 1.6, 0.2],\n",
       "       [5. , 3.4, 1.6, 0.4],\n",
       "       [5.2, 3.5, 1.5, 0.2],\n",
       "       [5.2, 3.4, 1.4, 0.2],\n",
       "       [4.7, 3.2, 1.6, 0.2],\n",
       "       [4.8, 3.1, 1.6, 0.2],\n",
       "       [5.4, 3.4, 1.5, 0.4],\n",
       "       [5.2, 4.1, 1.5, 0.1],\n",
       "       [5.5, 4.2, 1.4, 0.2],\n",
       "       [4.9, 3.1, 1.5, 0.2],\n",
       "       [5. , 3.2, 1.2, 0.2],\n",
       "       [5.5, 3.5, 1.3, 0.2],\n",
       "       [4.9, 3.6, 1.4, 0.1],\n",
       "       [4.4, 3. , 1.3, 0.2],\n",
       "       [5.1, 3.4, 1.5, 0.2],\n",
       "       [5. , 3.5, 1.3, 0.3],\n",
       "       [4.5, 2.3, 1.3, 0.3],\n",
       "       [4.4, 3.2, 1.3, 0.2],\n",
       "       [5. , 3.5, 1.6, 0.6],\n",
       "       [5.1, 3.8, 1.9, 0.4],\n",
       "       [4.8, 3. , 1.4, 0.3],\n",
       "       [5.1, 3.8, 1.6, 0.2],\n",
       "       [4.6, 3.2, 1.4, 0.2],\n",
       "       [5.3, 3.7, 1.5, 0.2],\n",
       "       [5. , 3.3, 1.4, 0.2],\n",
       "       [7. , 3.2, 4.7, 1.4],\n",
       "       [6.4, 3.2, 4.5, 1.5],\n",
       "       [6.9, 3.1, 4.9, 1.5],\n",
       "       [5.5, 2.3, 4. , 1.3],\n",
       "       [6.5, 2.8, 4.6, 1.5],\n",
       "       [5.7, 2.8, 4.5, 1.3],\n",
       "       [6.3, 3.3, 4.7, 1.6],\n",
       "       [4.9, 2.4, 3.3, 1. ],\n",
       "       [6.6, 2.9, 4.6, 1.3],\n",
       "       [5.2, 2.7, 3.9, 1.4],\n",
       "       [5. , 2. , 3.5, 1. ],\n",
       "       [5.9, 3. , 4.2, 1.5],\n",
       "       [6. , 2.2, 4. , 1. ],\n",
       "       [6.1, 2.9, 4.7, 1.4],\n",
       "       [5.6, 2.9, 3.6, 1.3],\n",
       "       [6.7, 3.1, 4.4, 1.4],\n",
       "       [5.6, 3. , 4.5, 1.5],\n",
       "       [5.8, 2.7, 4.1, 1. ],\n",
       "       [6.2, 2.2, 4.5, 1.5],\n",
       "       [5.6, 2.5, 3.9, 1.1],\n",
       "       [5.9, 3.2, 4.8, 1.8],\n",
       "       [6.1, 2.8, 4. , 1.3],\n",
       "       [6.3, 2.5, 4.9, 1.5],\n",
       "       [6.1, 2.8, 4.7, 1.2],\n",
       "       [6.4, 2.9, 4.3, 1.3],\n",
       "       [6.6, 3. , 4.4, 1.4],\n",
       "       [6.8, 2.8, 4.8, 1.4],\n",
       "       [6.7, 3. , 5. , 1.7],\n",
       "       [6. , 2.9, 4.5, 1.5],\n",
       "       [5.7, 2.6, 3.5, 1. ],\n",
       "       [5.5, 2.4, 3.8, 1.1],\n",
       "       [5.5, 2.4, 3.7, 1. ],\n",
       "       [5.8, 2.7, 3.9, 1.2],\n",
       "       [6. , 2.7, 5.1, 1.6],\n",
       "       [5.4, 3. , 4.5, 1.5],\n",
       "       [6. , 3.4, 4.5, 1.6],\n",
       "       [6.7, 3.1, 4.7, 1.5],\n",
       "       [6.3, 2.3, 4.4, 1.3],\n",
       "       [5.6, 3. , 4.1, 1.3],\n",
       "       [5.5, 2.5, 4. , 1.3],\n",
       "       [5.5, 2.6, 4.4, 1.2],\n",
       "       [6.1, 3. , 4.6, 1.4],\n",
       "       [5.8, 2.6, 4. , 1.2],\n",
       "       [5. , 2.3, 3.3, 1. ],\n",
       "       [5.6, 2.7, 4.2, 1.3],\n",
       "       [5.7, 3. , 4.2, 1.2],\n",
       "       [5.7, 2.9, 4.2, 1.3],\n",
       "       [6.2, 2.9, 4.3, 1.3],\n",
       "       [5.1, 2.5, 3. , 1.1],\n",
       "       [5.7, 2.8, 4.1, 1.3],\n",
       "       [6.3, 3.3, 6. , 2.5],\n",
       "       [5.8, 2.7, 5.1, 1.9],\n",
       "       [7.1, 3. , 5.9, 2.1],\n",
       "       [6.3, 2.9, 5.6, 1.8],\n",
       "       [6.5, 3. , 5.8, 2.2],\n",
       "       [7.6, 3. , 6.6, 2.1],\n",
       "       [4.9, 2.5, 4.5, 1.7],\n",
       "       [7.3, 2.9, 6.3, 1.8],\n",
       "       [6.7, 2.5, 5.8, 1.8],\n",
       "       [7.2, 3.6, 6.1, 2.5],\n",
       "       [6.5, 3.2, 5.1, 2. ],\n",
       "       [6.4, 2.7, 5.3, 1.9],\n",
       "       [6.8, 3. , 5.5, 2.1],\n",
       "       [5.7, 2.5, 5. , 2. ],\n",
       "       [5.8, 2.8, 5.1, 2.4],\n",
       "       [6.4, 3.2, 5.3, 2.3],\n",
       "       [6.5, 3. , 5.5, 1.8],\n",
       "       [7.7, 3.8, 6.7, 2.2],\n",
       "       [7.7, 2.6, 6.9, 2.3],\n",
       "       [6. , 2.2, 5. , 1.5],\n",
       "       [6.9, 3.2, 5.7, 2.3],\n",
       "       [5.6, 2.8, 4.9, 2. ],\n",
       "       [7.7, 2.8, 6.7, 2. ],\n",
       "       [6.3, 2.7, 4.9, 1.8],\n",
       "       [6.7, 3.3, 5.7, 2.1],\n",
       "       [7.2, 3.2, 6. , 1.8],\n",
       "       [6.2, 2.8, 4.8, 1.8],\n",
       "       [6.1, 3. , 4.9, 1.8],\n",
       "       [6.4, 2.8, 5.6, 2.1],\n",
       "       [7.2, 3. , 5.8, 1.6],\n",
       "       [7.4, 2.8, 6.1, 1.9],\n",
       "       [7.9, 3.8, 6.4, 2. ],\n",
       "       [6.4, 2.8, 5.6, 2.2],\n",
       "       [6.3, 2.8, 5.1, 1.5],\n",
       "       [6.1, 2.6, 5.6, 1.4],\n",
       "       [7.7, 3. , 6.1, 2.3],\n",
       "       [6.3, 3.4, 5.6, 2.4],\n",
       "       [6.4, 3.1, 5.5, 1.8],\n",
       "       [6. , 3. , 4.8, 1.8],\n",
       "       [6.9, 3.1, 5.4, 2.1],\n",
       "       [6.7, 3.1, 5.6, 2.4],\n",
       "       [6.9, 3.1, 5.1, 2.3],\n",
       "       [5.8, 2.7, 5.1, 1.9],\n",
       "       [6.8, 3.2, 5.9, 2.3],\n",
       "       [6.7, 3.3, 5.7, 2.5],\n",
       "       [6.7, 3. , 5.2, 2.3],\n",
       "       [6.3, 2.5, 5. , 1.9],\n",
       "       [6.5, 3. , 5.2, 2. ],\n",
       "       [6.2, 3.4, 5.4, 2.3],\n",
       "       [5.9, 3. , 5.1, 1.8]])"
      ]
     },
     "execution_count": 17,
     "metadata": {},
     "output_type": "execute_result"
    }
   ],
   "source": [
    "iris.data"
   ]
  },
  {
   "cell_type": "markdown",
   "id": "0d7c8da2",
   "metadata": {},
   "source": [
    "# "
   ]
  },
  {
   "cell_type": "code",
   "execution_count": 24,
   "id": "9c1d16a9",
   "metadata": {},
   "outputs": [],
   "source": [
    "\n",
    "dataframe_iris = pd.DataFrame(iris.data,columns=['sepalLength','sepalWidth','petalLength','petalWidth'])\n",
    "\n",
    "# Create a Pandas DataFrame (dataframe_iris) from the feature data (iris.data).\n",
    "# Assign meaningful column names ('sepalLength', 'sepalWidth', 'petalLength', 'petalWidth')."
   ]
  },
  {
   "cell_type": "code",
   "execution_count": 25,
   "id": "4d49a547",
   "metadata": {},
   "outputs": [
    {
     "data": {
      "text/html": [
       "<div>\n",
       "<style scoped>\n",
       "    .dataframe tbody tr th:only-of-type {\n",
       "        vertical-align: middle;\n",
       "    }\n",
       "\n",
       "    .dataframe tbody tr th {\n",
       "        vertical-align: top;\n",
       "    }\n",
       "\n",
       "    .dataframe thead th {\n",
       "        text-align: right;\n",
       "    }\n",
       "</style>\n",
       "<table border=\"1\" class=\"dataframe\">\n",
       "  <thead>\n",
       "    <tr style=\"text-align: right;\">\n",
       "      <th></th>\n",
       "      <th>sepalLength</th>\n",
       "      <th>sepalWidth</th>\n",
       "      <th>petalLength</th>\n",
       "      <th>petalWidth</th>\n",
       "    </tr>\n",
       "  </thead>\n",
       "  <tbody>\n",
       "    <tr>\n",
       "      <th>0</th>\n",
       "      <td>5.1</td>\n",
       "      <td>3.5</td>\n",
       "      <td>1.4</td>\n",
       "      <td>0.2</td>\n",
       "    </tr>\n",
       "    <tr>\n",
       "      <th>1</th>\n",
       "      <td>4.9</td>\n",
       "      <td>3.0</td>\n",
       "      <td>1.4</td>\n",
       "      <td>0.2</td>\n",
       "    </tr>\n",
       "    <tr>\n",
       "      <th>2</th>\n",
       "      <td>4.7</td>\n",
       "      <td>3.2</td>\n",
       "      <td>1.3</td>\n",
       "      <td>0.2</td>\n",
       "    </tr>\n",
       "    <tr>\n",
       "      <th>3</th>\n",
       "      <td>4.6</td>\n",
       "      <td>3.1</td>\n",
       "      <td>1.5</td>\n",
       "      <td>0.2</td>\n",
       "    </tr>\n",
       "    <tr>\n",
       "      <th>4</th>\n",
       "      <td>5.0</td>\n",
       "      <td>3.6</td>\n",
       "      <td>1.4</td>\n",
       "      <td>0.2</td>\n",
       "    </tr>\n",
       "    <tr>\n",
       "      <th>...</th>\n",
       "      <td>...</td>\n",
       "      <td>...</td>\n",
       "      <td>...</td>\n",
       "      <td>...</td>\n",
       "    </tr>\n",
       "    <tr>\n",
       "      <th>145</th>\n",
       "      <td>6.7</td>\n",
       "      <td>3.0</td>\n",
       "      <td>5.2</td>\n",
       "      <td>2.3</td>\n",
       "    </tr>\n",
       "    <tr>\n",
       "      <th>146</th>\n",
       "      <td>6.3</td>\n",
       "      <td>2.5</td>\n",
       "      <td>5.0</td>\n",
       "      <td>1.9</td>\n",
       "    </tr>\n",
       "    <tr>\n",
       "      <th>147</th>\n",
       "      <td>6.5</td>\n",
       "      <td>3.0</td>\n",
       "      <td>5.2</td>\n",
       "      <td>2.0</td>\n",
       "    </tr>\n",
       "    <tr>\n",
       "      <th>148</th>\n",
       "      <td>6.2</td>\n",
       "      <td>3.4</td>\n",
       "      <td>5.4</td>\n",
       "      <td>2.3</td>\n",
       "    </tr>\n",
       "    <tr>\n",
       "      <th>149</th>\n",
       "      <td>5.9</td>\n",
       "      <td>3.0</td>\n",
       "      <td>5.1</td>\n",
       "      <td>1.8</td>\n",
       "    </tr>\n",
       "  </tbody>\n",
       "</table>\n",
       "<p>150 rows × 4 columns</p>\n",
       "</div>"
      ],
      "text/plain": [
       "     sepalLength  sepalWidth  petalLength  petalWidth\n",
       "0            5.1         3.5          1.4         0.2\n",
       "1            4.9         3.0          1.4         0.2\n",
       "2            4.7         3.2          1.3         0.2\n",
       "3            4.6         3.1          1.5         0.2\n",
       "4            5.0         3.6          1.4         0.2\n",
       "..           ...         ...          ...         ...\n",
       "145          6.7         3.0          5.2         2.3\n",
       "146          6.3         2.5          5.0         1.9\n",
       "147          6.5         3.0          5.2         2.0\n",
       "148          6.2         3.4          5.4         2.3\n",
       "149          5.9         3.0          5.1         1.8\n",
       "\n",
       "[150 rows x 4 columns]"
      ]
     },
     "execution_count": 25,
     "metadata": {},
     "output_type": "execute_result"
    }
   ],
   "source": [
    "dataframe_iris"
   ]
  },
  {
   "cell_type": "code",
   "execution_count": 26,
   "id": "2928481c",
   "metadata": {},
   "outputs": [
    {
     "data": {
      "text/plain": [
       "(150, 4)"
      ]
     },
     "execution_count": 26,
     "metadata": {},
     "output_type": "execute_result"
    }
   ],
   "source": [
    "dataframe_iris.shape"
   ]
  },
  {
   "cell_type": "code",
   "execution_count": 27,
   "id": "55476f6b",
   "metadata": {},
   "outputs": [],
   "source": [
    "dataframe_iris1=pd.DataFrame(iris.target,columns=['target'])"
   ]
  },
  {
   "cell_type": "code",
   "execution_count": 31,
   "id": "982b9944",
   "metadata": {},
   "outputs": [
    {
     "data": {
      "text/html": [
       "<div>\n",
       "<style scoped>\n",
       "    .dataframe tbody tr th:only-of-type {\n",
       "        vertical-align: middle;\n",
       "    }\n",
       "\n",
       "    .dataframe tbody tr th {\n",
       "        vertical-align: top;\n",
       "    }\n",
       "\n",
       "    .dataframe thead th {\n",
       "        text-align: right;\n",
       "    }\n",
       "</style>\n",
       "<table border=\"1\" class=\"dataframe\">\n",
       "  <thead>\n",
       "    <tr style=\"text-align: right;\">\n",
       "      <th></th>\n",
       "      <th>target</th>\n",
       "    </tr>\n",
       "  </thead>\n",
       "  <tbody>\n",
       "    <tr>\n",
       "      <th>0</th>\n",
       "      <td>0</td>\n",
       "    </tr>\n",
       "    <tr>\n",
       "      <th>1</th>\n",
       "      <td>0</td>\n",
       "    </tr>\n",
       "    <tr>\n",
       "      <th>2</th>\n",
       "      <td>0</td>\n",
       "    </tr>\n",
       "    <tr>\n",
       "      <th>3</th>\n",
       "      <td>0</td>\n",
       "    </tr>\n",
       "    <tr>\n",
       "      <th>4</th>\n",
       "      <td>0</td>\n",
       "    </tr>\n",
       "    <tr>\n",
       "      <th>...</th>\n",
       "      <td>...</td>\n",
       "    </tr>\n",
       "    <tr>\n",
       "      <th>145</th>\n",
       "      <td>2</td>\n",
       "    </tr>\n",
       "    <tr>\n",
       "      <th>146</th>\n",
       "      <td>2</td>\n",
       "    </tr>\n",
       "    <tr>\n",
       "      <th>147</th>\n",
       "      <td>2</td>\n",
       "    </tr>\n",
       "    <tr>\n",
       "      <th>148</th>\n",
       "      <td>2</td>\n",
       "    </tr>\n",
       "    <tr>\n",
       "      <th>149</th>\n",
       "      <td>2</td>\n",
       "    </tr>\n",
       "  </tbody>\n",
       "</table>\n",
       "<p>150 rows × 1 columns</p>\n",
       "</div>"
      ],
      "text/plain": [
       "     target\n",
       "0         0\n",
       "1         0\n",
       "2         0\n",
       "3         0\n",
       "4         0\n",
       "..      ...\n",
       "145       2\n",
       "146       2\n",
       "147       2\n",
       "148       2\n",
       "149       2\n",
       "\n",
       "[150 rows x 1 columns]"
      ]
     },
     "execution_count": 31,
     "metadata": {},
     "output_type": "execute_result"
    }
   ],
   "source": [
    "dataframe_iris1"
   ]
  },
  {
   "cell_type": "code",
   "execution_count": 32,
   "id": "1549746d",
   "metadata": {},
   "outputs": [
    {
     "data": {
      "text/plain": [
       "(150, 1)"
      ]
     },
     "execution_count": 32,
     "metadata": {},
     "output_type": "execute_result"
    }
   ],
   "source": [
    "dataframe_iris1.shape"
   ]
  },
  {
   "cell_type": "markdown",
   "id": "93f68815",
   "metadata": {},
   "source": [
    "# "
   ]
  },
  {
   "cell_type": "markdown",
   "id": "5baf664f",
   "metadata": {},
   "source": [
    "# Visualization "
   ]
  },
  {
   "cell_type": "code",
   "execution_count": null,
   "id": "8495b0dc",
   "metadata": {},
   "outputs": [],
   "source": []
  },
  {
   "cell_type": "code",
   "execution_count": 35,
   "id": "7c43cda6",
   "metadata": {},
   "outputs": [
    {
     "data": {
      "image/png": "[encoded data removed]",
      "text/plain": [
       "<Figure size 1500x1000 with 16 Axes>"
      ]
     },
     "metadata": {},
     "output_type": "display_data"
    }
   ],
   "source": [
    "scatter_matrix(dataframe_iris[['sepalLength', 'sepalWidth', 'petalLength','petalWidth']],figsize=(15,10))  \n",
    "# pairwise relationships.\n",
    "plt.show()\n",
    "\n",
    "# Each scatter plot in the matrix shows the distribution and correlation between two variables,\n",
    "# and different colors represent different species."
   ]
  },
  {
   "cell_type": "markdown",
   "id": "25d4d3a2",
   "metadata": {},
   "source": [
    "# "
   ]
  },
  {
   "cell_type": "code",
   "execution_count": 37,
   "id": "586c3979",
   "metadata": {},
   "outputs": [],
   "source": [
    "ID=[]\n",
    "for i in range(0,150):\n",
    "    ID.append(i)"
   ]
  },
  {
   "cell_type": "code",
   "execution_count": 38,
   "id": "81bf3cc7",
   "metadata": {},
   "outputs": [],
   "source": [
    "dataframe=pd.DataFrame(ID,columns=['ID'])"
   ]
  },
  {
   "cell_type": "code",
   "execution_count": 39,
   "id": "285a7b95",
   "metadata": {},
   "outputs": [],
   "source": [
    "dataframe_iris_new = pd.concat([dataframe_iris,dataframe_iris1,dataframe],axis=1)"
   ]
  },
  {
   "cell_type": "code",
   "execution_count": 40,
   "id": "b4ab6535",
   "metadata": {},
   "outputs": [
    {
     "data": {
      "text/plain": [
       "Index(['sepalLength', 'sepalWidth', 'petalLength', 'petalWidth', 'target',\n",
       "       'ID'],\n",
       "      dtype='object')"
      ]
     },
     "execution_count": 40,
     "metadata": {},
     "output_type": "execute_result"
    }
   ],
   "source": [
    "dataframe_iris_new.columns"
   ]
  },
  {
   "cell_type": "markdown",
   "id": "aa559d72",
   "metadata": {},
   "source": [
    "# "
   ]
  },
  {
   "cell_type": "markdown",
   "id": "1fac514e",
   "metadata": {},
   "source": [
    "interaction_plot a function in the statsmodels library, which is focused on statistical modeling and hypothesis testing.\n",
    "\n",
    "\n",
    "designed to create interaction plots for factorial designs, where the effect of two categorical factors on a continuous response variable is visualized."
   ]
  },
  {
   "cell_type": "code",
   "execution_count": 41,
   "id": "f25e14d2",
   "metadata": {},
   "outputs": [
    {
     "data": {
      "image/png": "[encoded data removed]",
      "text/plain": [
       "<Figure size 640x480 with 1 Axes>"
      ]
     },
     "metadata": {},
     "output_type": "display_data"
    }
   ],
   "source": [
    "fig = interaction_plot(dataframe_iris_new.sepalWidth,\n",
    "                       dataframe_iris_new.target,\n",
    "                       dataframe_iris_new.ID,\n",
    "                       colors=['red','blue','green'], ms=12)"
   ]
  },
  {
   "cell_type": "markdown",
   "id": "fa847d3f",
   "metadata": {},
   "source": [
    " sepalWidth is your predictor variable,\n",
    " \n",
    " target is your grouping variable, and\n",
    " \n",
    " ID is your response variable, the correct order would be:"
   ]
  },
  {
   "cell_type": "markdown",
   "id": "bb101155",
   "metadata": {},
   "source": [
    "# "
   ]
  },
  {
   "cell_type": "code",
   "execution_count": 44,
   "id": "f1e5f081",
   "metadata": {},
   "outputs": [],
   "source": [
    "# how the relationship between sepalWidth and ID varies across different levels of the target variable.\n",
    "# Let's break down the components:\n",
    "\n",
    "# Predictor Variable (sepalWidth):\n",
    "\n",
    "# This is the variable that you believe influences or predicts the response variable. \n",
    "# In the context of the plot, it's sepalWidth.\n",
    "\n",
    "# Grouping Variable (target):\n",
    "\n",
    "# This is the variable that defines different groups or levels. \n",
    "# In the plot, different levels of target are represented by different colors. \n",
    "# Each level of target corresponds to a distinct group in the interaction plot.\n",
    "\n",
    "# Response Variable (ID):\n",
    "\n",
    "# This is the variable you are interested in understanding or predicting. \n",
    "# In the plot, it's ID. \n",
    "\n",
    "# The interaction plot visually depicts how the mean or response in terms of ID changes as sepalWidth varies,\n",
    "# and how this relationship differs between the groups defined by the target variable."
   ]
  },
  {
   "cell_type": "markdown",
   "id": "9955b8ae",
   "metadata": {},
   "source": [
    "# "
   ]
  },
  {
   "cell_type": "code",
   "execution_count": 45,
   "id": "7c6a8cfe",
   "metadata": {},
   "outputs": [],
   "source": [
    "# Take time to process this "
   ]
  },
  {
   "cell_type": "markdown",
   "id": "5809d21e",
   "metadata": {},
   "source": [
    "The interaction plot typically consists of lines or markers representing the mean response-\n",
    " for each combination of levels of the predictor and grouping variables. \n",
    "The lines or markers are color-coded based on the levels of the grouping variable (target). \n",
    "The key aspects to observe in the plot include:"
   ]
  },
  {
   "cell_type": "markdown",
   "id": "0d7360a3",
   "metadata": {},
   "source": [
    "The key aspects to observe in the plot include:"
   ]
  },
  {
   "cell_type": "code",
   "execution_count": 46,
   "id": "c225252e",
   "metadata": {},
   "outputs": [
    {
     "data": {
      "image/png": "[encoded data removed]",
      "text/plain": [
       "<Figure size 640x480 with 1 Axes>"
      ]
     },
     "metadata": {},
     "output_type": "display_data"
    }
   ],
   "source": [
    "fig = interaction_plot(dataframe_iris_new.sepalWidth,\n",
    "                       dataframe_iris_new.target,\n",
    "                       dataframe_iris_new.ID,\n",
    "                       colors=['red','blue','green'], ms=12)"
   ]
  },
  {
   "cell_type": "code",
   "execution_count": 47,
   "id": "e11850b3",
   "metadata": {},
   "outputs": [],
   "source": [
    "# Parallelism or Interaction:\n",
    "\n",
    "# If the lines representing different levels of the grouping variable (target) are parallel, \n",
    "# it suggests no significant interaction effect. \n",
    "# However, if the lines are not parallel and intersect, \n",
    "### it indicates the presence of an interaction effect.\n",
    "\n",
    "# Direction of Lines:\n",
    "\n",
    "# The direction of the lines or markers helps understand how the mean response (ID) changes\n",
    "#  as the predictor variable (sepalWidth) varies.\n",
    "\n",
    "# Color-Coding:\n",
    "\n",
    "# Different colors represent different levels of the grouping variable (target). \n",
    "# This color-coding helps visually distinguish between groups."
   ]
  },
  {
   "cell_type": "markdown",
   "id": "fcf23741",
   "metadata": {},
   "source": [
    "If the lines for different levels of target are parallel, there may be no significant interaction effect.\n",
    "\n",
    "If the lines are not parallel and intersect, it suggests an interaction effect, indicating that the relationship between sepalWidth and ID varies across different levels of target."
   ]
  },
  {
   "cell_type": "markdown",
   "id": "5a947a68",
   "metadata": {},
   "source": [
    "# "
   ]
  },
  {
   "cell_type": "code",
   "execution_count": 48,
   "id": "b07ab515",
   "metadata": {},
   "outputs": [
    {
     "name": "stdout",
     "output_type": "stream",
     "text": [
      "<class 'pandas.core.frame.DataFrame'>\n",
      "RangeIndex: 150 entries, 0 to 149\n",
      "Data columns (total 6 columns):\n",
      " #   Column       Non-Null Count  Dtype  \n",
      "---  ------       --------------  -----  \n",
      " 0   sepalLength  150 non-null    float64\n",
      " 1   sepalWidth   150 non-null    float64\n",
      " 2   petalLength  150 non-null    float64\n",
      " 3   petalWidth   150 non-null    float64\n",
      " 4   target       150 non-null    int32  \n",
      " 5   ID           150 non-null    int64  \n",
      "dtypes: float64(4), int32(1), int64(1)\n",
      "memory usage: 6.6 KB\n"
     ]
    }
   ],
   "source": [
    "dataframe_iris_new.info()"
   ]
  },
  {
   "cell_type": "code",
   "execution_count": 49,
   "id": "60166b51",
   "metadata": {},
   "outputs": [
    {
     "data": {
      "text/html": [
       "<div>\n",
       "<style scoped>\n",
       "    .dataframe tbody tr th:only-of-type {\n",
       "        vertical-align: middle;\n",
       "    }\n",
       "\n",
       "    .dataframe tbody tr th {\n",
       "        vertical-align: top;\n",
       "    }\n",
       "\n",
       "    .dataframe thead th {\n",
       "        text-align: right;\n",
       "    }\n",
       "</style>\n",
       "<table border=\"1\" class=\"dataframe\">\n",
       "  <thead>\n",
       "    <tr style=\"text-align: right;\">\n",
       "      <th></th>\n",
       "      <th>sepalLength</th>\n",
       "      <th>sepalWidth</th>\n",
       "      <th>petalLength</th>\n",
       "      <th>petalWidth</th>\n",
       "      <th>target</th>\n",
       "      <th>ID</th>\n",
       "    </tr>\n",
       "  </thead>\n",
       "  <tbody>\n",
       "    <tr>\n",
       "      <th>count</th>\n",
       "      <td>150.000000</td>\n",
       "      <td>150.000000</td>\n",
       "      <td>150.000000</td>\n",
       "      <td>150.000000</td>\n",
       "      <td>150.000000</td>\n",
       "      <td>150.000000</td>\n",
       "    </tr>\n",
       "    <tr>\n",
       "      <th>mean</th>\n",
       "      <td>5.843333</td>\n",
       "      <td>3.057333</td>\n",
       "      <td>3.758000</td>\n",
       "      <td>1.199333</td>\n",
       "      <td>1.000000</td>\n",
       "      <td>74.500000</td>\n",
       "    </tr>\n",
       "    <tr>\n",
       "      <th>std</th>\n",
       "      <td>0.828066</td>\n",
       "      <td>0.435866</td>\n",
       "      <td>1.765298</td>\n",
       "      <td>0.762238</td>\n",
       "      <td>0.819232</td>\n",
       "      <td>43.445368</td>\n",
       "    </tr>\n",
       "    <tr>\n",
       "      <th>min</th>\n",
       "      <td>4.300000</td>\n",
       "      <td>2.000000</td>\n",
       "      <td>1.000000</td>\n",
       "      <td>0.100000</td>\n",
       "      <td>0.000000</td>\n",
       "      <td>0.000000</td>\n",
       "    </tr>\n",
       "    <tr>\n",
       "      <th>25%</th>\n",
       "      <td>5.100000</td>\n",
       "      <td>2.800000</td>\n",
       "      <td>1.600000</td>\n",
       "      <td>0.300000</td>\n",
       "      <td>0.000000</td>\n",
       "      <td>37.250000</td>\n",
       "    </tr>\n",
       "    <tr>\n",
       "      <th>50%</th>\n",
       "      <td>5.800000</td>\n",
       "      <td>3.000000</td>\n",
       "      <td>4.350000</td>\n",
       "      <td>1.300000</td>\n",
       "      <td>1.000000</td>\n",
       "      <td>74.500000</td>\n",
       "    </tr>\n",
       "    <tr>\n",
       "      <th>75%</th>\n",
       "      <td>6.400000</td>\n",
       "      <td>3.300000</td>\n",
       "      <td>5.100000</td>\n",
       "      <td>1.800000</td>\n",
       "      <td>2.000000</td>\n",
       "      <td>111.750000</td>\n",
       "    </tr>\n",
       "    <tr>\n",
       "      <th>max</th>\n",
       "      <td>7.900000</td>\n",
       "      <td>4.400000</td>\n",
       "      <td>6.900000</td>\n",
       "      <td>2.500000</td>\n",
       "      <td>2.000000</td>\n",
       "      <td>149.000000</td>\n",
       "    </tr>\n",
       "  </tbody>\n",
       "</table>\n",
       "</div>"
      ],
      "text/plain": [
       "       sepalLength  sepalWidth  petalLength  petalWidth      target  \\\n",
       "count   150.000000  150.000000   150.000000  150.000000  150.000000   \n",
       "mean      5.843333    3.057333     3.758000    1.199333    1.000000   \n",
       "std       0.828066    0.435866     1.765298    0.762238    0.819232   \n",
       "min       4.300000    2.000000     1.000000    0.100000    0.000000   \n",
       "25%       5.100000    2.800000     1.600000    0.300000    0.000000   \n",
       "50%       5.800000    3.000000     4.350000    1.300000    1.000000   \n",
       "75%       6.400000    3.300000     5.100000    1.800000    2.000000   \n",
       "max       7.900000    4.400000     6.900000    2.500000    2.000000   \n",
       "\n",
       "               ID  \n",
       "count  150.000000  \n",
       "mean    74.500000  \n",
       "std     43.445368  \n",
       "min      0.000000  \n",
       "25%     37.250000  \n",
       "50%     74.500000  \n",
       "75%    111.750000  \n",
       "max    149.000000  "
      ]
     },
     "execution_count": 49,
     "metadata": {},
     "output_type": "execute_result"
    }
   ],
   "source": [
    "dataframe_iris_new.describe()"
   ]
  },
  {
   "cell_type": "markdown",
   "id": "85463cfa",
   "metadata": {},
   "source": [
    "# "
   ]
  },
  {
   "cell_type": "markdown",
   "id": "3f8abaea",
   "metadata": {},
   "source": [
    "# Anova test: \n",
    "    \n",
    "    Analysis of variance(anova) is a statistical technique that is used to check if means of two or more groups are \n",
    "      statistically different from each other.\n",
    "        \n",
    "        Consider a group of three samples means for sepal_width_cm from the iris dataset. \n",
    "        \n",
    "        Our goal is to determine that each group's mean value are statistically different from the other's and to do this we need to evaluate the variability between each of the mean values"
   ]
  },
  {
   "cell_type": "markdown",
   "id": "dc6f206a",
   "metadata": {},
   "source": [
    "# "
   ]
  },
  {
   "cell_type": "markdown",
   "id": "dfe921d4",
   "metadata": {},
   "source": [
    "# Anova hypothesis\n",
    "\n",
    "To implement Anova test we have to create null hypothesis and alternate hypothesis\n",
    "\n",
    "Null hypothesis=sample means are equal\n",
    "\n",
    "Alternate hypothesis=sample means are not equal"
   ]
  },
  {
   "cell_type": "markdown",
   "id": "a551f6bf",
   "metadata": {},
   "source": [
    "# "
   ]
  },
  {
   "cell_type": "code",
   "execution_count": 50,
   "id": "91756797",
   "metadata": {},
   "outputs": [
    {
     "name": "stdout",
     "output_type": "stream",
     "text": [
      "target\n",
      "0    3.428\n",
      "1    2.770\n",
      "2    2.974\n",
      "Name: sepalWidth, dtype: float64\n"
     ]
    }
   ],
   "source": [
    "print(dataframe_iris_new['sepalWidth'].groupby(dataframe_iris_new['target']).mean())"
   ]
  },
  {
   "cell_type": "code",
   "execution_count": 51,
   "id": "ad19f662",
   "metadata": {},
   "outputs": [
    {
     "data": {
      "text/plain": [
       "sepalLength     5.843333\n",
       "sepalWidth      3.057333\n",
       "petalLength     3.758000\n",
       "petalWidth      1.199333\n",
       "target          1.000000\n",
       "ID             74.500000\n",
       "dtype: float64"
      ]
     },
     "execution_count": 51,
     "metadata": {},
     "output_type": "execute_result"
    }
   ],
   "source": [
    "dataframe_iris_new.mean()"
   ]
  },
  {
   "cell_type": "markdown",
   "id": "953a1436",
   "metadata": {},
   "source": [
    "# But \n",
    "Anova also analyze variance of differnt groups and evaluate whether we have to reject The null hypothesis and accept alternate hypothesis For that Anova calculate f-value and p-value.\n",
    "P-value:-p-value is used to evaluate hypothesis results.P-value is a number between 0 and 1. \n",
    "\n",
    "If p-value<0.05 we have to reject null hypothesis And p-value>0.05 we have to accept null hypothesis.\n",
    "\n"
   ]
  },
  {
   "cell_type": "markdown",
   "id": "0a951fe7",
   "metadata": {},
   "source": [
    "# F-value:\n",
    "\n",
    "f-value is the ratio of variance between groups and variance within groups. \n",
    "\n",
    "If f-value is close to 1 then we say that our null hypothesis is true i.e samples have equal mean and F-value is greater than 1 then samples have quite different mean values."
   ]
  },
  {
   "cell_type": "markdown",
   "id": "882ade66",
   "metadata": {},
   "source": [
    "#  Anova assumptions: \n",
    "\n",
    "1.Normality:-samples are taken from normal distribution. To check whether data is normally distributed or not Anova use shapiro-wilks test \n",
    "\n",
    "2.Each sample is independent of other sample.\n",
    "\n",
    "3.Variance:- variance should be same. To check whether variance between groups are equal Anova use levene/barlett test."
   ]
  },
  {
   "cell_type": "markdown",
   "id": "85a246d5",
   "metadata": {},
   "source": [
    "# Check normal distribution of data\n",
    "\n",
    "(shapiro-wilk test) Null hypothesis:- data is drawn from normal distribution \n",
    "\n",
    "Alternate hypothesis:- data is not drawn from normal distribution"
   ]
  },
  {
   "cell_type": "code",
   "execution_count": 52,
   "id": "335a347c",
   "metadata": {},
   "outputs": [
    {
     "data": {
      "text/plain": [
       "ShapiroResult(statistic=0.7824642658233643, pvalue=1.1905897817111877e-13)"
      ]
     },
     "execution_count": 52,
     "metadata": {},
     "output_type": "execute_result"
    }
   ],
   "source": [
    "stats.shapiro(dataframe_iris_new['sepalWidth'][dataframe_iris_new['target']])"
   ]
  },
  {
   "cell_type": "markdown",
   "id": "2186cf8d",
   "metadata": {},
   "source": [
    "Interpretation:-As p-value is significant we reject null hypothesis."
   ]
  },
  {
   "cell_type": "markdown",
   "id": "a30fda1b",
   "metadata": {},
   "source": [
    "# "
   ]
  },
  {
   "cell_type": "markdown",
   "id": "d387f118",
   "metadata": {},
   "source": [
    "    Check equality of variance between groups(levene/bartlett test)"
   ]
  },
  {
   "cell_type": "code",
   "execution_count": 55,
   "id": "9cd377c3",
   "metadata": {},
   "outputs": [],
   "source": [
    "p_value=stats.levene(dataframe_iris_new['sepalWidth'],dataframe_iris_new['target'])"
   ]
  },
  {
   "cell_type": "code",
   "execution_count": 56,
   "id": "8902da3b",
   "metadata": {},
   "outputs": [
    {
     "data": {
      "text/plain": [
       "LeveneResult(statistic=55.1738582824089, pvalue=1.1695737027924642e-12)"
      ]
     },
     "execution_count": 56,
     "metadata": {},
     "output_type": "execute_result"
    }
   ],
   "source": [
    "p_value"
   ]
  },
  {
   "cell_type": "markdown",
   "id": "49d17d02",
   "metadata": {},
   "source": [
    "Interpretation:- As p-value is significant we reject null hypothesis"
   ]
  },
  {
   "cell_type": "markdown",
   "id": "aaedeedf",
   "metadata": {},
   "source": [
    "# "
   ]
  },
  {
   "cell_type": "markdown",
   "id": "4dda55c2",
   "metadata": {},
   "source": [
    "# Types of Anova: \n",
    "One-way Anova:\n",
    "one way Anova is used to compare means of two or more samples using f-value and p-value.\n",
    "\n",
    "Two-way Anova:\n",
    "In two way Anova, data are classified on the basis of two factors.\n",
    "Difference between one-way Anova and two-way Anova. One way anova compares three or more than three categorical gropus ,compare their means and to evaluate whether there is difference between them. \n",
    "\n",
    "Hypothesis of one way-anova: Null hypothesis(h0):-null hypothesis is that all groups of mean are equal,there is no difference between them. Alternate hypothesis(h1):-alternate hypothesis states that there is difference between mean.\n",
    "\n",
    "Two-way Anova compares means of three or more groups of data, where two independent variables are considered. The hypothesis of two way Anova is same as one-way Anova."
   ]
  },
  {
   "cell_type": "markdown",
   "id": "34c83a2a",
   "metadata": {},
   "source": [
    "# "
   ]
  },
  {
   "cell_type": "markdown",
   "id": "37eeec37",
   "metadata": {},
   "source": [
    "# Example:-\n",
    "\n",
    "we took iris dataset for Anova testing.Here, we have only one independent variable i.e. Species(iris-setosa,iris-versicolor,iris-virginica) which are in categorical and we took sepal width as a continous variable.\n",
    "\n",
    "For exmaple, if someone wants looked at sepal width in iris-setosa,iris-versicolor and iris virginica,there would be three species analyzed and therfore three groups to the analysis.\n",
    "\n",
    "In iris dataset we have only one independent variable i.e. Species so we are doing one-way Anova testing."
   ]
  },
  {
   "cell_type": "markdown",
   "id": "2bf21e5b",
   "metadata": {},
   "source": [
    "# "
   ]
  },
  {
   "cell_type": "code",
   "execution_count": 58,
   "id": "5a4f5e9a",
   "metadata": {},
   "outputs": [],
   "source": [
    "F_value,P_value  =  stats.f_oneway (dataframe_iris_new['sepalWidth'],dataframe_iris_new['target'])"
   ]
  },
  {
   "cell_type": "code",
   "execution_count": 59,
   "id": "904f5c0b",
   "metadata": {},
   "outputs": [
    {
     "name": "stdout",
     "output_type": "stream",
     "text": [
      "F_value= 737.2872570149498 , P_value= 1.418242288711535e-82\n"
     ]
    }
   ],
   "source": [
    "print(\"F_value=\",F_value,\",\",\"P_value=\",P_value)"
   ]
  },
  {
   "cell_type": "code",
   "execution_count": 60,
   "id": "9fd8a738",
   "metadata": {},
   "outputs": [
    {
     "name": "stdout",
     "output_type": "stream",
     "text": [
      "******SAMPLES HAVE DIFFERENT MEAN******\n"
     ]
    }
   ],
   "source": [
    "if F_value>1.0:\n",
    "    print(\"******SAMPLES HAVE DIFFERENT MEAN******\")\n",
    "else:\n",
    "    print(\"******SAMPLES HAVE EQUAL MEAN******\")"
   ]
  },
  {
   "cell_type": "markdown",
   "id": "00033cbd",
   "metadata": {},
   "source": [
    "Looking at f-value, we say that samples have different mean therefore we conclude that samples have different mean"
   ]
  },
  {
   "cell_type": "markdown",
   "id": "92dca075",
   "metadata": {},
   "source": [
    "# "
   ]
  },
  {
   "cell_type": "code",
   "execution_count": 62,
   "id": "4c55dd2b",
   "metadata": {},
   "outputs": [
    {
     "name": "stdout",
     "output_type": "stream",
     "text": [
      "******REJECT NULL HYPOTHESIS******\n",
      "As p-value obtained from one way Anova analysis states that there is significant difference between samples mean.\n"
     ]
    }
   ],
   "source": [
    "if P_value<0.05:\n",
    "    print(\"******REJECT NULL HYPOTHESIS******\")\n",
    "else:\n",
    "    print(\"******ACCEPT NULL HYPOTHESIS******\")"
   ]
  },
  {
   "cell_type": "markdown",
   "id": "8f68fd9b",
   "metadata": {},
   "source": [
    "As p-value obtained from one way Anova analysis states that there is significant difference between samples mean."
   ]
  },
  {
   "cell_type": "markdown",
   "id": "715303dc",
   "metadata": {},
   "source": [
    "# "
   ]
  },
  {
   "cell_type": "markdown",
   "id": "992474d3",
   "metadata": {},
   "source": [
    "# tukey's hsd test \n",
    "There are different post-hoc test to verify results. 1.Lsd test. 2.Tukey's hsd test 3.Scheffe's test Here we are going to perform tukey's hsd test to evaluate our hypothesis. To know pairs of significant different groups.Tukey hsd perform multiple pairwise comparions between groups."
   ]
  },
  {
   "cell_type": "markdown",
   "id": "1af210cd",
   "metadata": {},
   "source": [
    "# A post-hoc test,\n",
    "short for post hoc analysis, is conducted after an analysis of variance (ANOVA) to determine which group or groups differ significantly from each other.\n",
    "\n",
    "ANOVA tests whether there are any statistically significant differences among the means of three or more independent groups. \n",
    "\n",
    "If the ANOVA results indicate that there are significant differences, \n",
    "\n",
    "a post-hoc test can help identify which specific groups are different from each other."
   ]
  },
  {
   "cell_type": "code",
   "execution_count": 65,
   "id": "d5849fb0",
   "metadata": {},
   "outputs": [],
   "source": [
    "# Tukey's Honestly Significant Difference (HSD):\n",
    "# Tukey's HSD is a widely used post-hoc test.  simultaneous confidence intervals\n",
    "# It is conservative and is appropriate when you want to control the familywise error rate.\n",
    "# It provides simultaneous confidence intervals for all pairwise differences.\n",
    "\n",
    "# Bonferroni Correction:  control the overall familywise error rate. \n",
    "# The Bonferroni correction is a conservative method that adjusts the significance level to control the overall familywise error rate. \n",
    "# It divides the desired alpha level by the number of comparisons. While conservative, it may increase the chance of Type II errors.\n",
    "\n",
    "# Dunnett's Test: Type I error rate\n",
    "# Dunnett's test is used when there is a control group, and you are interested in comparing the other groups to the control.\n",
    "# It is less conservative than Bonferroni but still controls the overall Type I error rate.\n",
    "\n",
    "# Scheffe's Method: unequal sample sizes\n",
    "# Scheffe's method is a conservative post-hoc test that provides confidence intervals for all possible pairwise differences.\n",
    "# It is suitable for cases where there are unequal sample sizes.\n",
    "\n",
    "# Games-Howell Test: unequal sample sizes and variances\n",
    "# The Games-Howell test is a non-parametric alternative for cases where the assumption of equal variances is violated. \n",
    "# It is suitable for unequal sample sizes and variances."
   ]
  },
  {
   "cell_type": "markdown",
   "id": "f169becf",
   "metadata": {},
   "source": [
    "# "
   ]
  },
  {
   "cell_type": "code",
   "execution_count": 66,
   "id": "02f0f8b9",
   "metadata": {},
   "outputs": [
    {
     "name": "stdout",
     "output_type": "stream",
     "text": [
      "Multiple Comparison of Means - Tukey HSD, FWER=0.05 \n",
      "====================================================\n",
      "group1 group2 meandiff p-adj   lower   upper  reject\n",
      "----------------------------------------------------\n",
      "     0      1   -0.658    0.0 -0.8189 -0.4971   True\n",
      "     0      2   -0.454    0.0 -0.6149 -0.2931   True\n",
      "     1      2    0.204 0.0088  0.0431  0.3649   True\n",
      "----------------------------------------------------\n"
     ]
    }
   ],
   "source": [
    "tukey = pairwise_tukeyhsd(endog=dataframe_iris_new['sepalWidth'], groups=dataframe_iris_new['target'], alpha=0.05)\n",
    "print(tukey)"
   ]
  },
  {
   "cell_type": "markdown",
   "id": "3bad6c90",
   "metadata": {},
   "source": [
    "Interpretation:-Above tukey results show that all pairwise comparison for different groups rejects null hypothesis and indicates statistical significant difference."
   ]
  },
  {
   "cell_type": "markdown",
   "id": "56221726",
   "metadata": {},
   "source": [
    "# "
   ]
  },
  {
   "cell_type": "markdown",
   "id": "cbe8a50c",
   "metadata": {},
   "source": [
    "# CONCLUSION:\n",
    "\n",
    "As p-value obtained from Anova test and different test states that we have to reject null hypothesis. \n",
    "\n",
    "And accept alternate hypothesis that atleast two groups means are statistically different from each other."
   ]
  },
  {
   "cell_type": "markdown",
   "id": "c5e34c73",
   "metadata": {},
   "source": [
    "# "
   ]
  },
  {
   "cell_type": "markdown",
   "id": "487ec0c8",
   "metadata": {},
   "source": [
    "Link : https://www.kaggle.com/code/bhagyashree12/anova-test-on-iris-dataset "
   ]
  },
  {
   "cell_type": "markdown",
   "id": "5fbffb55",
   "metadata": {},
   "source": [
    "# "
   ]
  },
  {
   "cell_type": "code",
   "execution_count": 67,
   "id": "e34a22c2",
   "metadata": {},
   "outputs": [
    {
     "name": "stdout",
     "output_type": "stream",
     "text": [
      "Thank You\n"
     ]
    }
   ],
   "source": [
    "print(\"Thank You\") "
   ]
  }
 ],
 "metadata": {
  "kernelspec": {
   "display_name": "Python 3 (ipykernel)",
   "language": "python",
   "name": "python3"
  },
  "language_info": {
   "codemirror_mode": {
    "name": "ipython",
    "version": 3
   },
   "file_extension": ".py",
   "mimetype": "text/x-python",
   "name": "python",
   "nbconvert_exporter": "python",
   "pygments_lexer": "ipython3",
   "version": "3.11.5"
  }
 },
 "nbformat": 4,
 "nbformat_minor": 5
}
